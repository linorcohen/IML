{
 "cells": [
  {
   "cell_type": "markdown",
   "metadata": {},
   "source": [
    "# Lab 00 - B - Data Visualization In Python\n",
    "\n",
    "Visualization is an important step in data analysis and machine learning. It provides insights into the data itself, the models and the training processes. These insights are sometimes hard to achieve otherwise.\n",
    "\n",
    "In the following labs we will use the [Plotly](https://plotly.com/python/) graphics library. We will practice creating some basic graphs. You are encouraged to have a deeper look at the [Plotly-Python webiste](https://plotly.com/python/).\n",
    "\n",
    "We will be using two datasets:\n",
    "- The first one, [based on this dataset](https://www.kaggle.com/spscientist/students-performance-in-exams) presents results of students in exams in different disciplines. In addition to scores to the different exams, the gender of the student is indicated as a categorical column, as well as their ethnicity, parents' level of education and whether the student undertook a preparation course prior to the test.\n",
    "\n",
    "- The second dataset is of [temperature measurements taken in different major cities](https://www.kaggle.com/sudalairajkumar/daily-temperature-of-major-cities)."
   ]
  },
  {
   "cell_type": "code",
   "execution_count": 1,
   "metadata": {
    "colab": {
     "base_uri": "https://localhost:8080/",
     "height": 328
    },
    "id": "oyki0CLWBeZN",
    "outputId": "53cdce15-68bb-4c7b-f73a-67fa808023be"
   },
   "outputs": [],
   "source": [
    "import sys\n",
    "sys.path.append(\"../\")\n",
    "from utils import *"
   ]
  },
  {
   "cell_type": "markdown",
   "metadata": {},
   "source": [
    "The following imports from the `plotly` library are already imported in the `utils` file,  but we are still importing them here for educational reasons."
   ]
  },
  {
   "cell_type": "code",
   "execution_count": 2,
   "metadata": {
    "id": "6LdcMcwRZsui"
   },
   "outputs": [],
   "source": [
    "import plotly.express as px\n",
    "from plotly.subplots import make_subplots\n",
    "import plotly.graph_objects as go"
   ]
  },
  {
   "cell_type": "markdown",
   "metadata": {
    "id": "zUn_TyERmpCo"
   },
   "source": [
    "## Loading Datasets"
   ]
  },
  {
   "cell_type": "code",
   "execution_count": 3,
   "metadata": {
    "colab": {
     "base_uri": "https://localhost:8080/",
     "height": 197
    },
    "id": "KcbMRSZDvuk6",
    "outputId": "1d8fcefa-0e98-435d-83d9-69d98c7e75f3"
   },
   "outputs": [
    {
     "data": {
      "text/plain": "   Unnamed: 0  gender race.ethnicity parental.level.of.education  \\\n0           1  female        group B           bachelor's degree   \n1           2  female        group C                some college   \n2           3  female        group B             master's degree   \n3           4    male        group A          associate's degree   \n4           5    male        group C                some college   \n\n          lunch test.preparation.course  math.score  reading.score  \\\n0      standard                    none        88.8      86.506024   \n1      standard               completed        87.6      95.180723   \n2      standard                    none        96.0      97.590361   \n3  free/reduced                    none        78.8      79.277108   \n4      standard                    none        90.4      89.397590   \n\n   writing.score  science.score  \n0      88.444444      84.438076  \n1      94.666667      62.911799  \n2      96.888889      58.740116  \n3      75.111111      79.261140  \n4      88.888889      87.833540  ",
      "text/html": "<div>\n<style scoped>\n    .dataframe tbody tr th:only-of-type {\n        vertical-align: middle;\n    }\n\n    .dataframe tbody tr th {\n        vertical-align: top;\n    }\n\n    .dataframe thead th {\n        text-align: right;\n    }\n</style>\n<table border=\"1\" class=\"dataframe\">\n  <thead>\n    <tr style=\"text-align: right;\">\n      <th></th>\n      <th>Unnamed: 0</th>\n      <th>gender</th>\n      <th>race.ethnicity</th>\n      <th>parental.level.of.education</th>\n      <th>lunch</th>\n      <th>test.preparation.course</th>\n      <th>math.score</th>\n      <th>reading.score</th>\n      <th>writing.score</th>\n      <th>science.score</th>\n    </tr>\n  </thead>\n  <tbody>\n    <tr>\n      <th>0</th>\n      <td>1</td>\n      <td>female</td>\n      <td>group B</td>\n      <td>bachelor's degree</td>\n      <td>standard</td>\n      <td>none</td>\n      <td>88.8</td>\n      <td>86.506024</td>\n      <td>88.444444</td>\n      <td>84.438076</td>\n    </tr>\n    <tr>\n      <th>1</th>\n      <td>2</td>\n      <td>female</td>\n      <td>group C</td>\n      <td>some college</td>\n      <td>standard</td>\n      <td>completed</td>\n      <td>87.6</td>\n      <td>95.180723</td>\n      <td>94.666667</td>\n      <td>62.911799</td>\n    </tr>\n    <tr>\n      <th>2</th>\n      <td>3</td>\n      <td>female</td>\n      <td>group B</td>\n      <td>master's degree</td>\n      <td>standard</td>\n      <td>none</td>\n      <td>96.0</td>\n      <td>97.590361</td>\n      <td>96.888889</td>\n      <td>58.740116</td>\n    </tr>\n    <tr>\n      <th>3</th>\n      <td>4</td>\n      <td>male</td>\n      <td>group A</td>\n      <td>associate's degree</td>\n      <td>free/reduced</td>\n      <td>none</td>\n      <td>78.8</td>\n      <td>79.277108</td>\n      <td>75.111111</td>\n      <td>79.261140</td>\n    </tr>\n    <tr>\n      <th>4</th>\n      <td>5</td>\n      <td>male</td>\n      <td>group C</td>\n      <td>some college</td>\n      <td>standard</td>\n      <td>none</td>\n      <td>90.4</td>\n      <td>89.397590</td>\n      <td>88.888889</td>\n      <td>87.833540</td>\n    </tr>\n  </tbody>\n</table>\n</div>"
     },
     "execution_count": 3,
     "metadata": {},
     "output_type": "execute_result"
    }
   ],
   "source": [
    "students_df = pd.read_csv(\"../datasets/Students_Performance.csv\")\n",
    "students_df.head()"
   ]
  },
  {
   "cell_type": "code",
   "execution_count": 4,
   "metadata": {
    "colab": {
     "base_uri": "https://localhost:8080/",
     "height": 197
    },
    "id": "iU4nKXXVMrX-",
    "outputId": "af89122b-9eaf-4ee1-b8c7-d86c1d015a52"
   },
   "outputs": [
    {
     "data": {
      "text/plain": "        Country      City        Date  Year  Month  Day       Temp\n0  South Africa  Capetown  1995-01-01  1995      1    1  19.333333\n1  South Africa  Capetown  1995-01-02  1995      1    2  19.888889\n2  South Africa  Capetown  1995-01-03  1995      1    3  19.388889\n3  South Africa  Capetown  1995-01-04  1995      1    4  20.833333\n4  South Africa  Capetown  1995-01-05  1995      1    5  21.444444",
      "text/html": "<div>\n<style scoped>\n    .dataframe tbody tr th:only-of-type {\n        vertical-align: middle;\n    }\n\n    .dataframe tbody tr th {\n        vertical-align: top;\n    }\n\n    .dataframe thead th {\n        text-align: right;\n    }\n</style>\n<table border=\"1\" class=\"dataframe\">\n  <thead>\n    <tr style=\"text-align: right;\">\n      <th></th>\n      <th>Country</th>\n      <th>City</th>\n      <th>Date</th>\n      <th>Year</th>\n      <th>Month</th>\n      <th>Day</th>\n      <th>Temp</th>\n    </tr>\n  </thead>\n  <tbody>\n    <tr>\n      <th>0</th>\n      <td>South Africa</td>\n      <td>Capetown</td>\n      <td>1995-01-01</td>\n      <td>1995</td>\n      <td>1</td>\n      <td>1</td>\n      <td>19.333333</td>\n    </tr>\n    <tr>\n      <th>1</th>\n      <td>South Africa</td>\n      <td>Capetown</td>\n      <td>1995-01-02</td>\n      <td>1995</td>\n      <td>1</td>\n      <td>2</td>\n      <td>19.888889</td>\n    </tr>\n    <tr>\n      <th>2</th>\n      <td>South Africa</td>\n      <td>Capetown</td>\n      <td>1995-01-03</td>\n      <td>1995</td>\n      <td>1</td>\n      <td>3</td>\n      <td>19.388889</td>\n    </tr>\n    <tr>\n      <th>3</th>\n      <td>South Africa</td>\n      <td>Capetown</td>\n      <td>1995-01-04</td>\n      <td>1995</td>\n      <td>1</td>\n      <td>4</td>\n      <td>20.833333</td>\n    </tr>\n    <tr>\n      <th>4</th>\n      <td>South Africa</td>\n      <td>Capetown</td>\n      <td>1995-01-05</td>\n      <td>1995</td>\n      <td>1</td>\n      <td>5</td>\n      <td>21.444444</td>\n    </tr>\n  </tbody>\n</table>\n</div>"
     },
     "execution_count": 4,
     "metadata": {},
     "output_type": "execute_result"
    }
   ],
   "source": [
    "temperature_df = pd.read_csv(\"../datasets/City_Temperature.csv\")\n",
    "temperature_df = temperature_df.loc[temperature_df[\"Temp\"] != -99]\n",
    "temperature_df.head()"
   ]
  },
  {
   "cell_type": "markdown",
   "metadata": {
    "id": "ZFB_YxxZmzrQ"
   },
   "source": [
    "## Distribution Of Features\n",
    "\n",
    "When you first look at a new dataset, it is important to understand how the different features \"behave\". Generally, we distinguish between 3 kinds of features: categorical (i.e. gender, country, etc.), discrete (i.e. years in range 1950 to 1960) or continuous (i.e. price, weight, height, etc.). We will explore different visualization options for different features, both on themselves and together with other features."
   ]
  },
  {
   "cell_type": "markdown",
   "metadata": {
    "id": "gVMfUsVUzgf7"
   },
   "source": [
    "### Categorical Features\n",
    "\n",
    "One of the simplest and most used plots to visualize categorical or discrete data is a bar plot. We use it to visualize how many items there are per category of a given feature.\n",
    "\n",
    "We use the `px.bar` function of `plotly` to do so. The 2 first parameters are `x` and `y`, where `x` spepcifies the different categories and `y` specifies the number of occurences of each of those categories. Thus, we need to build a `Pandas.DataFrame` object that fits this structure."
   ]
  },
  {
   "cell_type": "code",
   "execution_count": 5,
   "metadata": {
    "colab": {
     "base_uri": "https://localhost:8080/",
     "height": 197
    },
    "id": "RwdgcFm41BKd",
    "outputId": "9d522a5e-a8df-496c-fe5b-66d0da361576"
   },
   "outputs": [
    {
     "data": {
      "text/plain": "  race.ethnicity  Count\n0        group A     89\n1        group B    190\n2        group C    319\n3        group D    262\n4        group E    140",
      "text/html": "<div>\n<style scoped>\n    .dataframe tbody tr th:only-of-type {\n        vertical-align: middle;\n    }\n\n    .dataframe tbody tr th {\n        vertical-align: top;\n    }\n\n    .dataframe thead th {\n        text-align: right;\n    }\n</style>\n<table border=\"1\" class=\"dataframe\">\n  <thead>\n    <tr style=\"text-align: right;\">\n      <th></th>\n      <th>race.ethnicity</th>\n      <th>Count</th>\n    </tr>\n  </thead>\n  <tbody>\n    <tr>\n      <th>0</th>\n      <td>group A</td>\n      <td>89</td>\n    </tr>\n    <tr>\n      <th>1</th>\n      <td>group B</td>\n      <td>190</td>\n    </tr>\n    <tr>\n      <th>2</th>\n      <td>group C</td>\n      <td>319</td>\n    </tr>\n    <tr>\n      <th>3</th>\n      <td>group D</td>\n      <td>262</td>\n    </tr>\n    <tr>\n      <th>4</th>\n      <td>group E</td>\n      <td>140</td>\n    </tr>\n  </tbody>\n</table>\n</div>"
     },
     "execution_count": 5,
     "metadata": {},
     "output_type": "execute_result"
    }
   ],
   "source": [
    "df_count_ethnicities = students_df.groupby(['race.ethnicity']).size().reset_index(name='Count')\n",
    "df_count_ethnicities"
   ]
  },
  {
   "cell_type": "code",
   "execution_count": null,
   "metadata": {
    "colab": {
     "base_uri": "https://localhost:8080/",
     "height": 542
    },
    "id": "3-7lDVGUCn5F",
    "outputId": "2745b8a7-fe00-433b-8c74-94d78fbb9fcb",
    "pycharm": {
     "is_executing": true
    }
   },
   "outputs": [],
   "source": [
    "px.bar(df_count_ethnicities, x=\"race.ethnicity\", y=\"Count\", height=200).show()"
   ]
  },
  {
   "cell_type": "markdown",
   "metadata": {
    "id": "5EAmfmQU2JEQ"
   },
   "source": [
    "To see if in each ethinical category there is an equal proportion of men and women, we can color by gender."
   ]
  },
  {
   "cell_type": "code",
   "execution_count": null,
   "metadata": {
    "colab": {
     "base_uri": "https://localhost:8080/",
     "height": 542
    },
    "id": "RQ4txP9KC5L8",
    "outputId": "6fea6001-7c1d-4306-bb2e-f57764f8c76d",
    "pycharm": {
     "is_executing": true
    }
   },
   "outputs": [],
   "source": [
    "df_count_ethnicities = students_df.groupby(['race.ethnicity', 'gender']).size().reset_index(name='Count')\n",
    "px.bar(df_count_ethnicities, x=\"race.ethnicity\", y=\"Count\", color = \"gender\", height=200).show()"
   ]
  },
  {
   "cell_type": "markdown",
   "metadata": {
    "id": "upVy4J5q4g5o"
   },
   "source": [
    "Now, let us check if the parental educational degree influences whether the students had a test preparation course. To keep it simple, we make independent plots for each level of education."
   ]
  },
  {
   "cell_type": "code",
   "execution_count": null,
   "metadata": {
    "colab": {
     "base_uri": "https://localhost:8080/",
     "height": 1000
    },
    "id": "FPkHvV0A4mMF",
    "outputId": "79d03613-39df-416c-9507-37b8bdfdb041",
    "pycharm": {
     "is_executing": true
    }
   },
   "outputs": [],
   "source": [
    "colored_by = \"test.preparation.course\"\n",
    "split_by = 'parental.level.of.education'\n",
    "\n",
    "for level in students_df[split_by].unique():\n",
    "    df = students_df.loc[students_df[split_by] == level].groupby([colored_by]).size().reset_index(name='Count')\n",
    "    px.pie(df, values='Count', names = colored_by, title = level, height=150).show()"
   ]
  },
  {
   "cell_type": "markdown",
   "metadata": {
    "id": "3ws6acJL6VdT"
   },
   "source": [
    "## Continuous Features\n",
    "Next, we deal with features on a continuous scale. Suppose we want to know the distribution of the grades. We can do so by plotting a histogram of grades for each subject. We will look at both the absolute- and relative counts.\n",
    "- Observe that for all three subjects we are getting a noisy bell-like shape.\n",
    "- Most students achieved grades around 85.\n",
    "- Some students achieved very high grades, while other achieved lower grades of around 60-70.\n",
    "\n",
    "<br>Unlike the separate figures we used for the pie charts, here we are using Plotly's `make_subplots` function to create all plots in a single figure."
   ]
  },
  {
   "cell_type": "code",
   "execution_count": null,
   "metadata": {
    "colab": {
     "base_uri": "https://localhost:8080/",
     "height": 228
    },
    "id": "9XuRYNrh7SEe",
    "outputId": "7800a625-a767-4f1d-a522-c52142e844a9",
    "pycharm": {
     "is_executing": true
    }
   },
   "outputs": [],
   "source": [
    "fig = make_subplots(rows=1, cols=3,\n",
    "                    subplot_titles=(\"Math score distribution\", \"Writing score distribution\", \"Reading score distribution\"))\n",
    "\n",
    "for i, label in enumerate([\"math.score\", \"writing.score\", \"reading.score\"]):\n",
    "    fig.append_trace(go.Histogram(x=students_df[label], showlegend = False), row = 1, col = i+1)\n",
    "    fig.update_xaxes(title_text=label.capitalize(), row=1, col=i+1)\n",
    "\n",
    "fig.update_layout(height=300).show()"
   ]
  },
  {
   "cell_type": "markdown",
   "metadata": {
    "id": "-qIl1Xn0AdhV"
   },
   "source": [
    "Often we want to know how two different continuous features influence one another. It could be interesting to see if they correlate. Here we will check if there is a correlation between a student's grade in math and in reading or science. We do so by plotting a scatter plot with the `x` values being the one feature and the `y` values the other feature. We can also color the dots by some category like gender or some continuous value like the score.\n",
    "\n",
    "In the figure below, we clearly see that the score of the math exam is highly correlated with the reading exam. For the science exam, it is a little bit more complex: for the girls (in blue), the higher the grade in math, the lower the grade in science."
   ]
  },
  {
   "cell_type": "code",
   "execution_count": null,
   "metadata": {
    "colab": {
     "base_uri": "https://localhost:8080/",
     "height": 542
    },
    "id": "kQ4H95OjBa1D",
    "outputId": "447b0452-d754-4a61-af6e-f1a233be22b8",
    "pycharm": {
     "is_executing": true
    }
   },
   "outputs": [],
   "source": [
    "students_df[\"gender.cat\"] = pd.Categorical(students_df[\"gender\"]).codes\n",
    "\n",
    "fig = make_subplots(rows=1, cols=2, start_cell=\"bottom-left\")\n",
    "\n",
    "fig.add_traces([go.Scatter(x=students_df[\"math.score\"], y=students_df[\"reading.score\"], mode=\"markers\", \n",
    "                           marker = dict(color = students_df[\"gender.cat\"], colorscale=\"Bluered\"), showlegend = False),\n",
    "                go.Scatter(x=students_df[\"math.score\"], y=students_df[\"science.score\"], mode=\"markers\", \n",
    "                           marker = dict(color = students_df[\"gender.cat\"], colorscale=\"Bluered\"), showlegend = False)],\n",
    "               rows=[1,1], cols=[1,2])\n",
    "fig.add_trace(go.Scatter(x = [None], y = [None], mode = 'markers',\n",
    "                        marker = dict(color=\"Blue\"), legendgroup = \"female\", name = \"female\"), row = 1, col =1)\n",
    "fig.add_trace(go.Scatter(x = [None], y = [None], mode = 'markers',\n",
    "                        marker = dict(color=\"Red\"), legendgroup = \"male\", name = \"male\"), row = 1, col =1)\n",
    "fig.update_xaxes(title_text=\"Reading Score\", row=1, col=1)\n",
    "fig.update_xaxes(title_text=\"Science Score\", row=1, col=2)\n",
    "fig.update_yaxes(title_text=\"Math Score\")\n",
    "fig.show()\n"
   ]
  },
  {
   "cell_type": "markdown",
   "metadata": {
    "id": "E4DThszyL9O0"
   },
   "source": [
    "## Visualizing Combinations Of Features"
   ]
  },
  {
   "cell_type": "markdown",
   "metadata": {
    "id": "GIGbV6z3Em1L"
   },
   "source": [
    "When we have two categorical features and we want to know the distribution of samples across those two features, we often use heatmaps. A heatmap is also useful to represent any continuous feature across different catgorical features. "
   ]
  },
  {
   "cell_type": "code",
   "execution_count": null,
   "metadata": {
    "colab": {
     "base_uri": "https://localhost:8080/",
     "height": 542
    },
    "id": "CZWm1Zn_mn20",
    "outputId": "a18b86ae-db1f-4026-8d3f-27bbbce0c453",
    "pycharm": {
     "is_executing": true
    }
   },
   "outputs": [],
   "source": [
    "df_count_ethnicities = students_df.groupby(['race.ethnicity', 'gender']).size().reset_index(name='Count')\n",
    "\n",
    "x_ = np.unique(df_count_ethnicities[\"race.ethnicity\"].tolist())\n",
    "y_ = np.unique(df_count_ethnicities[\"gender\"].tolist())\n",
    "\n",
    "values = np.array(df_count_ethnicities[\"Count\"]).reshape(5, 2)\n",
    "values_norm_row = (values.T/values.sum(axis = 1)).T\n",
    "values_norm_col = values/values.sum(axis = 0)\n",
    "\n",
    "for title, z in [[\"Counts Heatmap\", values], [\"Row Normalized\", values_norm_row], [\"Column Normalized\", values_norm_col]]:\n",
    "    go.Figure(go.Heatmap(x=y_, y=x_,z=z), layout=go.Layout(title=title, height=300, width=200)).show()"
   ]
  },
  {
   "cell_type": "markdown",
   "metadata": {
    "id": "5N7WwynaEwpJ"
   },
   "source": [
    "In order to visualize the distribution of continuous features, we can use boxplots. In the graph below, we display the distribution of the temperature of Paris and Bordeaux for each graph separately. You first observe that summer months (6-8) are warmer than the other months. We can also compare between Paris and Bordeaux per month, and see that Bordeaux is generally warmed than Paris."
   ]
  },
  {
   "cell_type": "code",
   "execution_count": null,
   "metadata": {
    "colab": {
     "base_uri": "https://localhost:8080/",
     "height": 415
    },
    "id": "qJmxft9qcf6D",
    "outputId": "fe9c17e0-085c-4e5d-82b9-66133b19cd07",
    "pycharm": {
     "is_executing": true
    }
   },
   "outputs": [],
   "source": [
    "di ={i+1:m_ for i, m_ in enumerate(['Jan', 'Feb', 'March', 'Apr', 'May', 'June', 'July', 'Aug', 'Sept', 'Oct', 'Nov', 'Dec'])}\n",
    "\n",
    "france_temperature = temperature_df[temperature_df['Country'] == \"Israel\"]\n",
    "france_temperature.replace({\"Month\": di})"
   ]
  },
  {
   "cell_type": "code",
   "execution_count": null,
   "metadata": {
    "colab": {
     "base_uri": "https://localhost:8080/",
     "height": 542
    },
    "id": "Ivy5BZxlpN52",
    "outputId": "c6066d8c-c3cb-495c-932b-90e11ba8a726",
    "pycharm": {
     "is_executing": true
    }
   },
   "outputs": [],
   "source": [
    "px.scatter(france_temperature, x=\"Month\", y=\"Temp\", color=\"City\", facet_col = \"City\").show()"
   ]
  },
  {
   "cell_type": "code",
   "execution_count": null,
   "metadata": {
    "colab": {
     "base_uri": "https://localhost:8080/",
     "height": 542
    },
    "id": "3gpUreL1pHfm",
    "outputId": "47bc6a6b-227f-4519-b9c4-cdfb02aa3c77",
    "pycharm": {
     "is_executing": true
    }
   },
   "outputs": [],
   "source": [
    "px.box(france_temperature, x=\"Month\", y=\"Temp\", color=\"City\").show()"
   ]
  }
 ],
 "metadata": {
  "colab": {
   "collapsed_sections": [],
   "name": "lab-vizualization2.ipynb",
   "provenance": []
  },
  "kernelspec": {
   "display_name": "Python 3",
   "language": "python",
   "name": "python3"
  },
  "language_info": {
   "codemirror_mode": {
    "name": "ipython",
    "version": 3
   },
   "file_extension": ".py",
   "mimetype": "text/x-python",
   "name": "python",
   "nbconvert_exporter": "python",
   "pygments_lexer": "ipython3",
   "version": "3.7.10"
  }
 },
 "nbformat": 4,
 "nbformat_minor": 1
}
